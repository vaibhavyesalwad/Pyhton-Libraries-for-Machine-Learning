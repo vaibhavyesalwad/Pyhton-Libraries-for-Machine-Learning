{
 "cells": [
  {
   "cell_type": "markdown",
   "metadata": {},
   "source": [
    "## Program to get the powers of an array values element-wise"
   ]
  },
  {
   "cell_type": "code",
   "execution_count": 8,
   "metadata": {},
   "outputs": [
    {
     "name": "stdout",
     "output_type": "stream",
     "text": [
      "Enter total number of elements for series1:6\n",
      "Series1 index 0 value:0\n",
      "Series1 index 1 value:1\n",
      "Series1 index 2 value:2\n",
      "Series1 index 3 value:3\n",
      "Series1 index 4 value:4\n",
      "Series1 index 5 value:5\n"
     ]
    },
    {
     "data": {
      "text/plain": [
       "0    0\n",
       "1    1\n",
       "2    2\n",
       "3    3\n",
       "4    4\n",
       "5    5\n",
       "dtype: int64"
      ]
     },
     "execution_count": 8,
     "metadata": {},
     "output_type": "execute_result"
    }
   ],
   "source": [
    "import pandas as pd\n",
    "while True:\n",
    "    try:\n",
    "        total = int(input('Enter total number of elements for series1:'))\n",
    "        series1 = pd.Series([int(input(f'Series1 index {num} value:')) for num in range(total)])\n",
    "        assert total > 0 \n",
    "        break\n",
    "    except ValueError:\n",
    "        print('Please enter integers only')\n",
    "    except AssertionError:\n",
    "        print('number of elements in series1 must be at least 1')\n",
    "series1"
   ]
  },
  {
   "cell_type": "code",
   "execution_count": 9,
   "metadata": {},
   "outputs": [
    {
     "name": "stdout",
     "output_type": "stream",
     "text": [
      "Enter total number of elements for exponents:6\n",
      "exponents index 0 value:3\n",
      "exponents index 1 value:3\n",
      "exponents index 2 value:3\n",
      "exponents index 3 value:3\n",
      "exponents index 4 value:3\n",
      "exponents index 5 value:3\n"
     ]
    },
    {
     "data": {
      "text/plain": [
       "0    3\n",
       "1    3\n",
       "2    3\n",
       "3    3\n",
       "4    3\n",
       "5    3\n",
       "dtype: int64"
      ]
     },
     "execution_count": 9,
     "metadata": {},
     "output_type": "execute_result"
    }
   ],
   "source": [
    "while True:\n",
    "    try:\n",
    "        total = int(input('Enter total number of elements for exponents:'))\n",
    "        exponents = pd.Series([int(input(f'exponents index {num} value:')) for num in range(total)])\n",
    "        assert total > 0 \n",
    "        break\n",
    "    except ValueError:\n",
    "        print('Please enter integers only')\n",
    "    except AssertionError:\n",
    "        print('number of elements in exponents must be at least 1')\n",
    "exponents"
   ]
  },
  {
   "cell_type": "code",
   "execution_count": 10,
   "metadata": {},
   "outputs": [
    {
     "data": {
      "text/plain": [
       "0      0\n",
       "1      1\n",
       "2      8\n",
       "3     27\n",
       "4     64\n",
       "5    125\n",
       "dtype: int64"
      ]
     },
     "execution_count": 10,
     "metadata": {},
     "output_type": "execute_result"
    }
   ],
   "source": [
    "series1.pow(exponents)  # pd.Series.pow(other) returns Series elements of series raised to elements of other series"
   ]
  }
 ],
 "metadata": {
  "kernelspec": {
   "display_name": "Python 3",
   "language": "python",
   "name": "python3"
  },
  "language_info": {
   "codemirror_mode": {
    "name": "ipython",
    "version": 3
   },
   "file_extension": ".py",
   "mimetype": "text/x-python",
   "name": "python",
   "nbconvert_exporter": "python",
   "pygments_lexer": "ipython3",
   "version": "3.6.9"
  }
 },
 "nbformat": 4,
 "nbformat_minor": 2
}
