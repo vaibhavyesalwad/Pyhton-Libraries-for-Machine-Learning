{
 "cells": [
  {
   "cell_type": "markdown",
   "metadata": {},
   "source": [
    "## Program to iterate over rows in a DataFrame"
   ]
  },
  {
   "cell_type": "code",
   "execution_count": 1,
   "metadata": {},
   "outputs": [
    {
     "name": "stdout",
     "output_type": "stream",
     "text": [
      "('a', name        Anastasia\n",
      "score            12.5\n",
      "attempts            1\n",
      "qualify           yes\n",
      "Name: a, dtype: object)\n",
      "('b', name        Dima\n",
      "score          9\n",
      "attempts       3\n",
      "qualify       no\n",
      "Name: b, dtype: object)\n",
      "('c', name        Katherine\n",
      "score            16.5\n",
      "attempts            2\n",
      "qualify           yes\n",
      "Name: c, dtype: object)\n",
      "('d', name        James\n",
      "score         NaN\n",
      "attempts        3\n",
      "qualify        no\n",
      "Name: d, dtype: object)\n",
      "('e', name        Emily\n",
      "score           9\n",
      "attempts        2\n",
      "qualify        no\n",
      "Name: e, dtype: object)\n",
      "('f', name        Michael\n",
      "score            20\n",
      "attempts          3\n",
      "qualify         yes\n",
      "Name: f, dtype: object)\n",
      "('g', name        Matthew\n",
      "score          14.5\n",
      "attempts          1\n",
      "qualify         yes\n",
      "Name: g, dtype: object)\n",
      "('h', name        Laura\n",
      "score         NaN\n",
      "attempts        1\n",
      "qualify        no\n",
      "Name: h, dtype: object)\n",
      "('i', name        Kevin\n",
      "score           8\n",
      "attempts        2\n",
      "qualify        no\n",
      "Name: i, dtype: object)\n",
      "('j', name        Jonas\n",
      "score          19\n",
      "attempts        1\n",
      "qualify       yes\n",
      "Name: j, dtype: object)\n"
     ]
    }
   ],
   "source": [
    "import pandas as pd\n",
    "import numpy as np\n",
    "exam_data = {'name': ['Anastasia', 'Dima', 'Katherine', 'James', 'Emily', 'Michael', 'Matthew', 'Laura', 'Kevin', 'Jonas'],\n",
    "             'score': [12.5, 9, 16.5, np.nan, 9, 20, 14.5, np.nan, 8, 19],\n",
    "            'attempts': [1, 3, 2, 3, 2, 3, 1, 1, 2, 1],\n",
    "            'qualify': ['yes', 'no', 'yes', 'no', 'no', 'yes', 'yes', 'no', 'no', 'yes']}\n",
    "labels = ['a', 'b', 'c', 'd', 'e', 'f', 'g', 'h', 'i', 'j']\n",
    "\n",
    "# creating dataframe from given python dictionary and list as index\n",
    "students_data = pd.DataFrame(exam_data, index=labels)\n",
    "# iterating over rows in dataframe\n",
    "for row in students_data.iterrows():\n",
    "    print(row)"
   ]
  }
 ],
 "metadata": {
  "kernelspec": {
   "display_name": "Python 3",
   "language": "python",
   "name": "python3"
  },
  "language_info": {
   "codemirror_mode": {
    "name": "ipython",
    "version": 3
   },
   "file_extension": ".py",
   "mimetype": "text/x-python",
   "name": "python",
   "nbconvert_exporter": "python",
   "pygments_lexer": "ipython3",
   "version": "3.6.9"
  }
 },
 "nbformat": 4,
 "nbformat_minor": 2
}
