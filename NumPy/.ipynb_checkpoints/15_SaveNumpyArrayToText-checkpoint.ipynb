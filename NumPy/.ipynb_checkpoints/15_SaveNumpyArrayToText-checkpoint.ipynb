{
 "cells": [
  {
   "cell_type": "markdown",
   "metadata": {},
   "source": [
    "### Creating Numpy Array"
   ]
  },
  {
   "cell_type": "code",
   "execution_count": 7,
   "metadata": {},
   "outputs": [
    {
     "name": "stdout",
     "output_type": "stream",
     "text": [
      "Enter numbers into list separated by spaces:12 32 56 54 78 9 5 8545 65889 54 556 89  578 565 89 3 56 6 5 5dddddh\n",
      "Please enter only numbers\n",
      "Enter numbers into list separated by spaces:dh\n",
      "Please enter only numbers\n",
      "Enter numbers into list separated by spaces:565 23 56 89 6 54 4 556 5 98 45 562365 9 5 5 12  56 8 56 \n"
     ]
    },
    {
     "data": {
      "text/plain": [
       "array([   565,     23,     56,     89,      6,     54,      4,    556,\n",
       "            5,     98,     45, 562365,      9,      5,      5,     12,\n",
       "           56,      8,     56], dtype=int32)"
      ]
     },
     "execution_count": 7,
     "metadata": {},
     "output_type": "execute_result"
    }
   ],
   "source": [
    "\"\"\"Program to save a NumPy array to a text file\"\"\"\n",
    "import numpy as np\n",
    "while True:\n",
    "    try:\n",
    "        nums = [int(num) for num in input('Enter numbers into list separated by spaces:').split()]\n",
    "        break\n",
    "    except ValueError:\n",
    "        print('Please enter only numbers')\n",
    "numbers1 = np.array(nums, dtype = 'int32')\n",
    "numbers1"
   ]
  },
  {
   "cell_type": "markdown",
   "metadata": {},
   "source": [
    "### Saving NumPy array to text file"
   ]
  },
  {
   "cell_type": "code",
   "execution_count": 8,
   "metadata": {},
   "outputs": [],
   "source": [
    "with open('mydatafile.txt','a') as f: \n",
    "    for item in numbers1:\n",
    "        f.write(str(item)+ ' ')"
   ]
  }
 ],
 "metadata": {
  "kernelspec": {
   "display_name": "Python 3",
   "language": "python",
   "name": "python3"
  },
  "language_info": {
   "codemirror_mode": {
    "name": "ipython",
    "version": 3
   },
   "file_extension": ".py",
   "mimetype": "text/x-python",
   "name": "python",
   "nbconvert_exporter": "python",
   "pygments_lexer": "ipython3",
   "version": "3.6.9"
  }
 },
 "nbformat": 4,
 "nbformat_minor": 2
}
