{
 "cells": [
  {
   "cell_type": "code",
   "execution_count": 22,
   "metadata": {},
   "outputs": [
    {
     "name": "stdout",
     "output_type": "stream",
     "text": [
      "Size of array 'numbers': 3\n"
     ]
    }
   ],
   "source": [
    "\"\"\"Program to find the number of elements of an array, length of one array element in bytes \n",
    "and total bytes consumed by the elements\"\"\"\n",
    "import numpy as np\n",
    "numbers = np.array([10,20,30])                        \n",
    "print(f\"Size of array 'numbers': {numbers.size}\")   # np.array.size gives total count of individual elements"
   ]
  },
  {
   "cell_type": "code",
   "execution_count": 23,
   "metadata": {},
   "outputs": [
    {
     "name": "stdout",
     "output_type": "stream",
     "text": [
      "Data type of elements of array: int64\n",
      "Length of an element in bytes: 8\n"
     ]
    }
   ],
   "source": [
    "print(f\"Data type of elements of array: {numbers.dtype}\")\n",
    "print(f\"Length of an element in bytes: {numbers.itemsize}\")  # np.array.itemsize gives size of an individual element"
   ]
  },
  {
   "cell_type": "code",
   "execution_count": 24,
   "metadata": {},
   "outputs": [
    {
     "name": "stdout",
     "output_type": "stream",
     "text": [
      "Total bytes consumed by array 'numbers': 24\n"
     ]
    }
   ],
   "source": [
    "print(f\"Total bytes consumed by array 'numbers': {numbers.size*numbers.itemsize}\") "
   ]
  }
 ],
 "metadata": {
  "kernelspec": {
   "display_name": "Python 3",
   "language": "python",
   "name": "python3"
  },
  "language_info": {
   "codemirror_mode": {
    "name": "ipython",
    "version": 3
   },
   "file_extension": ".py",
   "mimetype": "text/x-python",
   "name": "python",
   "nbconvert_exporter": "python",
   "pygments_lexer": "ipython3",
   "version": "3.6.9"
  }
 },
 "nbformat": 4,
 "nbformat_minor": 2
}
