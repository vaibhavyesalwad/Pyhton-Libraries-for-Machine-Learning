{
 "cells": [
  {
   "cell_type": "code",
   "execution_count": 12,
   "metadata": {},
   "outputs": [
    {
     "data": {
      "text/plain": [
       "array([1.        +0.j        , 0.70710678+0.70710678j])"
      ]
     },
     "execution_count": 12,
     "metadata": {},
     "output_type": "execute_result"
    }
   ],
   "source": [
    "\"\"\"Program to find the real and imaginary parts of an array of complex numbers\"\"\"\n",
    "import numpy as np\n",
    "complex_nums = np.array([ 1.00000000+0.j, 0.70710678+0.70710678j])        \n",
    "complex_nums"
   ]
  },
  {
   "cell_type": "code",
   "execution_count": 13,
   "metadata": {},
   "outputs": [
    {
     "name": "stdout",
     "output_type": "stream",
     "text": [
      "Real parts: [1.         0.70710678]\n"
     ]
    }
   ],
   "source": [
    "print(f'Real parts: {complex_nums.real}')           # np.array.real returns real parts of numbers in array"
   ]
  },
  {
   "cell_type": "code",
   "execution_count": 14,
   "metadata": {},
   "outputs": [
    {
     "name": "stdout",
     "output_type": "stream",
     "text": [
      "Imaginary parts: [0.         0.70710678]\n"
     ]
    }
   ],
   "source": [
    "print(f'Imaginary parts: {complex_nums.imag}')      # np.array.imag returns imaginary parts of numbers in array "
   ]
  }
 ],
 "metadata": {
  "kernelspec": {
   "display_name": "Python 3",
   "language": "python",
   "name": "python3"
  },
  "language_info": {
   "codemirror_mode": {
    "name": "ipython",
    "version": 3
   },
   "file_extension": ".py",
   "mimetype": "text/x-python",
   "name": "python",
   "nbconvert_exporter": "python",
   "pygments_lexer": "ipython3",
   "version": "3.6.9"
  }
 },
 "nbformat": 4,
 "nbformat_minor": 2
}
