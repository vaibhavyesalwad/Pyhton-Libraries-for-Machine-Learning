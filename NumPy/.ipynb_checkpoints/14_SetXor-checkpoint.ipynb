{
 "cells": [
  {
   "cell_type": "code",
   "execution_count": 4,
   "metadata": {},
   "outputs": [
    {
     "data": {
      "text/plain": [
       "array([ 0, 20, 30, 50, 60, 70, 80])"
      ]
     },
     "execution_count": 4,
     "metadata": {},
     "output_type": "execute_result"
    }
   ],
   "source": [
    "\"\"\"Program to find the set exclusive-or of two arrays. Set exclusive-or will return the sorted, \n",
    "unique values that are in only one (not both) of the input arrays\"\"\"\n",
    "import numpy as np\n",
    "numbers1 = np.array([0,10,20,40,60,80])\n",
    "numbers2 = np.array([10, 30, 40, 50, 70])\n",
    "setxor = np.setxor1d(numbers1, numbers2)     # returns sorted array of non-common elements of two given arrays\n",
    "setxor"
   ]
  }
 ],
 "metadata": {
  "kernelspec": {
   "display_name": "Python 3",
   "language": "python",
   "name": "python3"
  },
  "language_info": {
   "codemirror_mode": {
    "name": "ipython",
    "version": 3
   },
   "file_extension": ".py",
   "mimetype": "text/x-python",
   "name": "python",
   "nbconvert_exporter": "python",
   "pygments_lexer": "ipython3",
   "version": "3.6.9"
  }
 },
 "nbformat": 4,
 "nbformat_minor": 2
}
