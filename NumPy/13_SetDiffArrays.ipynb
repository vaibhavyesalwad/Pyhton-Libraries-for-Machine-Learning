{
 "cells": [
  {
   "cell_type": "code",
   "execution_count": 6,
   "metadata": {},
   "outputs": [
    {
     "name": "stdout",
     "output_type": "stream",
     "text": [
      "Difference 'numbers1' - 'numbers2': [ 0 20 60 80]\n"
     ]
    }
   ],
   "source": [
    "\"\"\"Program to find the set difference of two arrays. The set difference will return the sorted, \n",
    "unique values in array1 that are not in array2\"\"\"\n",
    "import numpy as np\n",
    "numbers1 = np.array([0,10,20,40,60,80])\n",
    "numbers2 = np.array([10, 30, 40, 50, 70, 90])\n",
    "difference = np.setdiff1d(numbers1,numbers2)\n",
    "print(f\"Difference 'numbers1' - 'numbers2': {difference}\")"
   ]
  }
 ],
 "metadata": {
  "kernelspec": {
   "display_name": "Python 3",
   "language": "python",
   "name": "python3"
  },
  "language_info": {
   "codemirror_mode": {
    "name": "ipython",
    "version": 3
   },
   "file_extension": ".py",
   "mimetype": "text/x-python",
   "name": "python",
   "nbconvert_exporter": "python",
   "pygments_lexer": "ipython3",
   "version": "3.6.9"
  }
 },
 "nbformat": 4,
 "nbformat_minor": 2
}
