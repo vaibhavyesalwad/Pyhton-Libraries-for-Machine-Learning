{
 "cells": [
  {
   "cell_type": "markdown",
   "metadata": {},
   "source": [
    "### Creating Numpy Array"
   ]
  },
  {
   "cell_type": "code",
   "execution_count": 2,
   "metadata": {},
   "outputs": [
    {
     "name": "stdout",
     "output_type": "stream",
     "text": [
      "Enter numbers into list separated by spaces:12 45 56 23 45 89 23 23 56\n"
     ]
    },
    {
     "data": {
      "text/plain": [
       "array([12, 45, 56, 23, 45, 89, 23, 23, 56], dtype=int32)"
      ]
     },
     "execution_count": 2,
     "metadata": {},
     "output_type": "execute_result"
    }
   ],
   "source": [
    "\"\"\"Program to save a NumPy array to a text file\"\"\"\n",
    "import numpy as np\n",
    "while True:\n",
    "    try:\n",
    "        nums = [int(num) for num in input('Enter numbers into list separated by spaces:').split()]\n",
    "        break\n",
    "    except ValueError:\n",
    "        print('Please enter only numbers')\n",
    "numbers1 = np.array(nums, dtype = 'int32')\n",
    "numbers1"
   ]
  },
  {
   "cell_type": "markdown",
   "metadata": {},
   "source": [
    "### Saving NumPy array to text file"
   ]
  },
  {
   "cell_type": "code",
   "execution_count": 3,
   "metadata": {},
   "outputs": [],
   "source": [
    "with open('mydatafile.txt','a') as file: \n",
    "    for item in numbers1:\n",
    "        file.write(str(item)+ ' ')"
   ]
  }
 ],
 "metadata": {
  "kernelspec": {
   "display_name": "Python 3",
   "language": "python",
   "name": "python3"
  },
  "language_info": {
   "codemirror_mode": {
    "name": "ipython",
    "version": 3
   },
   "file_extension": ".py",
   "mimetype": "text/x-python",
   "name": "python",
   "nbconvert_exporter": "python",
   "pygments_lexer": "ipython3",
   "version": "3.6.9"
  }
 },
 "nbformat": 4,
 "nbformat_minor": 2
}
