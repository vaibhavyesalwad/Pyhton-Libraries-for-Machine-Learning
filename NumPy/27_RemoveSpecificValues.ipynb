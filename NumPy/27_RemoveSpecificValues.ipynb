{
 "cells": [
  {
   "cell_type": "markdown",
   "metadata": {},
   "source": [
    "## Program to remove specific elements in a numpy array"
   ]
  },
  {
   "cell_type": "code",
   "execution_count": 18,
   "metadata": {},
   "outputs": [
    {
     "name": "stdout",
     "output_type": "stream",
     "text": [
      "Enter numbers in numpy array:15 65 689 78 989 56 212 32 656 98 45 98 65 23 45 989 56 9 12 56 59 78 15 26 98 65 54 32\n"
     ]
    },
    {
     "data": {
      "text/plain": [
       "array([ 15,  65, 689,  78, 989,  56, 212,  32, 656,  98,  45,  98,  65,\n",
       "        23,  45, 989,  56,   9,  12,  56,  59,  78,  15,  26,  98,  65,\n",
       "        54,  32])"
      ]
     },
     "execution_count": 18,
     "metadata": {},
     "output_type": "execute_result"
    }
   ],
   "source": [
    "import numpy as np\n",
    "while True:\n",
    "    try:\n",
    "        numbers = np.array([int(num) for num in input('Enter numbers in numpy array:').split()])\n",
    "        break\n",
    "    except ValueError:\n",
    "        print('Please enter only integer values')\n",
    "numbers"
   ]
  },
  {
   "cell_type": "code",
   "execution_count": 19,
   "metadata": {},
   "outputs": [
    {
     "data": {
      "text/plain": [
       "array([ 65, 689,  56, 212,  32, 656,  98,  45,  98,  65,  23,  45, 989,\n",
       "        56,   9,  12,  56,  59,  78,  15,  26,  98,  65,  54,  32])"
      ]
     },
     "execution_count": 19,
     "metadata": {},
     "output_type": "execute_result"
    }
   ],
   "source": [
    "np.delete(numbers,[0,3,4],0)         # deleting values at given list of indices"
   ]
  }
 ],
 "metadata": {
  "kernelspec": {
   "display_name": "Python 3",
   "language": "python",
   "name": "python3"
  },
  "language_info": {
   "codemirror_mode": {
    "name": "ipython",
    "version": 3
   },
   "file_extension": ".py",
   "mimetype": "text/x-python",
   "name": "python",
   "nbconvert_exporter": "python",
   "pygments_lexer": "ipython3",
   "version": "3.6.9"
  }
 },
 "nbformat": 4,
 "nbformat_minor": 2
}
