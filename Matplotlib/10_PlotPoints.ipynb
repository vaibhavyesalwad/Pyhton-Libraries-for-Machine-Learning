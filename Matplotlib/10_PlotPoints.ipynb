{
 "cells": [
  {
   "cell_type": "markdown",
   "metadata": {},
   "source": [
    "## Program to plot quantities which have an x and y position"
   ]
  },
  {
   "cell_type": "code",
   "execution_count": 2,
   "metadata": {},
   "outputs": [
    {
     "data": {
      "image/png": "[encoded data removed]",
      "text/plain": [
       "<Figure size 432x288 with 1 Axes>"
      ]
     },
     "metadata": {
      "needs_background": "light"
     },
     "output_type": "display_data"
    }
   ],
   "source": [
    "import matplotlib.pyplot as plt\n",
    "x_positions = [0,2,5,6,9,13,15]       # x-coordinates \n",
    "y_positions = [1,3,4,7,2,5,12]        # corresponding y-coordinates \n",
    "plt.plot(x_positions,y_positions,'rs')   # plotting graph for points\n",
    "plt.xlabel('x')\n",
    "plt.title('Plotting points')\n",
    "plt.ylabel('y')           # labeling axes\n",
    "plt.show()                # drawing graph"
   ]
  }
 ],
 "metadata": {
  "kernelspec": {
   "display_name": "Python 3",
   "language": "python",
   "name": "python3"
  },
  "language_info": {
   "codemirror_mode": {
    "name": "ipython",
    "version": 3
   },
   "file_extension": ".py",
   "mimetype": "text/x-python",
   "name": "python",
   "nbconvert_exporter": "python",
   "pygments_lexer": "ipython3",
   "version": "3.6.9"
  }
 },
 "nbformat": 4,
 "nbformat_minor": 2
}
