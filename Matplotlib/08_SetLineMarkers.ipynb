{
 "cells": [
  {
   "cell_type": "markdown",
   "metadata": {},
   "source": [
    "## Program to plot two or more lines and set the line markers"
   ]
  },
  {
   "cell_type": "code",
   "execution_count": 4,
   "metadata": {},
   "outputs": [
    {
     "data": {
      "image/png": "[encoded data removed]",
      "text/plain": [
       "<Figure size 432x288 with 1 Axes>"
      ]
     },
     "metadata": {
      "needs_background": "light"
     },
     "output_type": "display_data"
    }
   ],
   "source": [
    "import matplotlib.pyplot as plt\n",
    "import numpy as np\n",
    "# using numpy.linspace function gives evenly spaced numbers\n",
    "numbers = np.linspace(0,3,10)\n",
    "# color & linewidth parameters for the line graph \n",
    "plt.plot(numbers, numbers**2,'ro', label = 'y = x**2')\n",
    "plt.plot(numbers, numbers**3,'bs' , label = 'y = x**3')\n",
    "plt.xlabel('numbers')           # labeling x-axis\n",
    "plt.ylabel('exponents')         # labeling y-axis\n",
    "plt.legend()                    # box - naming different plots\n",
    "plt.draw()                      # drawing graph   "
   ]
  }
 ],
 "metadata": {
  "kernelspec": {
   "display_name": "Python 3",
   "language": "python",
   "name": "python3"
  },
  "language_info": {
   "codemirror_mode": {
    "name": "ipython",
    "version": 3
   },
   "file_extension": ".py",
   "mimetype": "text/x-python",
   "name": "python",
   "nbconvert_exporter": "python",
   "pygments_lexer": "ipython3",
   "version": "3.6.9"
  }
 },
 "nbformat": 4,
 "nbformat_minor": 2
}
