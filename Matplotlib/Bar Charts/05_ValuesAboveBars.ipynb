{
 "cells": [
  {
   "cell_type": "markdown",
   "metadata": {},
   "source": [
    "##  Program to display a bar chart of the popularity of programming Languages. Attach a text label above each bar displaying its popularity (float value)"
   ]
  },
  {
   "cell_type": "code",
   "execution_count": 18,
   "metadata": {},
   "outputs": [
    {
     "data": {
      "image/png": "[encoded data removed]",
      "text/plain": [
       "<Figure size 432x288 with 1 Axes>"
      ]
     },
     "metadata": {
      "needs_background": "light"
     },
     "output_type": "display_data"
    }
   ],
   "source": [
    "import matplotlib.pyplot as plt\n",
    "# values for x-axis \n",
    "prog_langs = ['Java', 'Python', 'PHP', 'JavaScript', 'C#', 'C++']\n",
    "# bar heights for values on x-axis\n",
    "popularity = [22.2, 17.6, 8.8, 8, 7.7, 6.7]\n",
    "# plotting bar chart\n",
    "mygraph = plt.bar(prog_langs,popularity)\n",
    "\n",
    "# putting height of bar above the each bar \n",
    "# traversing through each bar and putting text above a bar\n",
    "for mybar in mygraph.patches:                 \n",
    "    # plt.text prints text and parameters .get_x() gives x-scoordinate of a bar & .get_height() gives y-coordinate\n",
    "    plt.text(mybar.get_x()+.2, mybar.get_height()+.5, \n",
    "            mybar.get_height(), fontsize=10, color='black')\n",
    "    \n",
    "plt.ylim(top = 25)                       # setting y-axis limit\n",
    "plt.xlabel('Programming Languages')      # labeling x-axis\n",
    "plt.ylabel('Popularity index')           # labeling y-axis\n",
    "plt.show()                               # drawing bar chart"
   ]
  }
 ],
 "metadata": {
  "kernelspec": {
   "display_name": "Python 3",
   "language": "python",
   "name": "python3"
  },
  "language_info": {
   "codemirror_mode": {
    "name": "ipython",
    "version": 3
   },
   "file_extension": ".py",
   "mimetype": "text/x-python",
   "name": "python",
   "nbconvert_exporter": "python",
   "pygments_lexer": "ipython3",
   "version": "3.6.9"
  }
 },
 "nbformat": 4,
 "nbformat_minor": 2
}
