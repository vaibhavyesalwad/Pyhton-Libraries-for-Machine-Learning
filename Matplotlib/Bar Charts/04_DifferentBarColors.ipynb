{
 "cells": [
  {
   "cell_type": "markdown",
   "metadata": {},
   "source": [
    "## Program to display a bar chart of the popularity of programming Languages. Use different color for each bar"
   ]
  },
  {
   "cell_type": "code",
   "execution_count": 6,
   "metadata": {},
   "outputs": [
    {
     "data": {
      "image/png": "[encoded data removed]",
      "text/plain": [
       "<Figure size 432x288 with 1 Axes>"
      ]
     },
     "metadata": {
      "needs_background": "light"
     },
     "output_type": "display_data"
    }
   ],
   "source": [
    "import matplotlib.pyplot as plt\n",
    "# values for x-axis \n",
    "prog_langs = ['Java', 'Python', 'PHP', 'JavaScript', 'C#', 'C++']\n",
    "# bar heights for values on x-axis\n",
    "popularity = [22.2, 17.6, 8.8, 8, 7.7, 6.7]\n",
    "# plotting bar chart \n",
    "# defining different color for each bar- assigning list of names of colours or list tuples of RGBA values \n",
    "plt.bar(prog_langs,popularity, color =[(.4,.5,.8),(.2,.6,.6),(.3,.4,.2),(.2,.5,.8),(.5,.6,.7),(.6,.5,.3)])  \n",
    "plt.xlabel('Programming Languages')      # labeling x-axis\n",
    "plt.ylabel('Popularity index')           # labeling y-axis\n",
    "plt.show()                               # drawing bar chart"
   ]
  }
 ],
 "metadata": {
  "kernelspec": {
   "display_name": "Python 3",
   "language": "python",
   "name": "python3"
  },
  "language_info": {
   "codemirror_mode": {
    "name": "ipython",
    "version": 3
   },
   "file_extension": ".py",
   "mimetype": "text/x-python",
   "name": "python",
   "nbconvert_exporter": "python",
   "pygments_lexer": "ipython3",
   "version": "3.6.9"
  }
 },
 "nbformat": 4,
 "nbformat_minor": 2
}
