{
 "cells": [
  {
   "cell_type": "markdown",
   "metadata": {},
   "source": [
    "## Program to display a bar chart of the popularity of programming Languages. Specify the position of each bar plot"
   ]
  },
  {
   "cell_type": "code",
   "execution_count": 13,
   "metadata": {},
   "outputs": [
    {
     "data": {
      "image/png": "[encoded data removed]",
      "text/plain": [
       "<Figure size 432x288 with 1 Axes>"
      ]
     },
     "metadata": {
      "needs_background": "light"
     },
     "output_type": "display_data"
    }
   ],
   "source": [
    "import matplotlib.pyplot as plt\n",
    "# values for x-axis \n",
    "prog_langs = ['Java', 'Python', 'PHP', 'JavaScript', 'C#', 'C++']\n",
    "# bar heights for values on x-axis\n",
    "popularity = [22.2, 17.6, 8.8, 8, 7.7, 6.7]\n",
    "\n",
    "# defining positions for each bar\n",
    "positions=[1,2,4,6,8,9]\n",
    "# defining xticks for above positions with names of programming languages\n",
    "plt.xticks(positions, prog_langs)\n",
    "\n",
    "# plotting bar chart at given positions\n",
    "plt.bar(positions,popularity,color=(.3,.6,.2))\n",
    "plt.xlabel('Programming Languages')      # labeling x-axis\n",
    "plt.ylabel('Popularity index')           # labeling y-axis\n",
    "plt.show()                               # drawing bar chart"
   ]
  }
 ],
 "metadata": {
  "kernelspec": {
   "display_name": "Python 3",
   "language": "python",
   "name": "python3"
  },
  "language_info": {
   "codemirror_mode": {
    "name": "ipython",
    "version": 3
   },
   "file_extension": ".py",
   "mimetype": "text/x-python",
   "name": "python",
   "nbconvert_exporter": "python",
   "pygments_lexer": "ipython3",
   "version": "3.6.9"
  }
 },
 "nbformat": 4,
 "nbformat_minor": 2
}
